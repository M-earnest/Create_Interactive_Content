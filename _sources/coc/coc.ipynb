{
 "cells": [
  {
   "cell_type": "markdown",
   "id": "0b933185",
   "metadata": {},
   "source": [
    "# code of conduct"
   ]
  }
 ],
 "metadata": {
  "language_info": {
   "name": "python"
  }
 },
 "nbformat": 4,
 "nbformat_minor": 5
}
