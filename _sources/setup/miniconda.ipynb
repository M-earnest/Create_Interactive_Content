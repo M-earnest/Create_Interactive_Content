{
 "cells": [
  {
   "cell_type": "markdown",
   "id": "c8c46efa-dcde-4338-93b3-df0b5954b982",
   "metadata": {},
   "source": [
    "# miniconda"
   ]
  }
 ],
 "metadata": {
  "kernelspec": {
   "display_name": "Python 3 (ipykernel)",
   "language": "python",
   "name": "python3"
  },
  "language_info": {
   "codemirror_mode": {
    "name": "ipython",
    "version": 3
   },
   "file_extension": ".py",
   "mimetype": "text/x-python",
   "name": "python",
   "nbconvert_exporter": "python",
   "pygments_lexer": "ipython3",
   "version": "3.8.10"
  }
 },
 "nbformat": 4,
 "nbformat_minor": 5
}
