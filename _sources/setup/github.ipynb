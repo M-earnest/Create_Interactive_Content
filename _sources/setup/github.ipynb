{
 "cells": [
  {
   "cell_type": "markdown",
   "id": "10f1d86d",
   "metadata": {},
   "source": [
    "# GitHub: Essential and Genius"
   ]
  }
 ],
 "metadata": {
  "language_info": {
   "name": "python"
  }
 },
 "nbformat": 4,
 "nbformat_minor": 5
}
