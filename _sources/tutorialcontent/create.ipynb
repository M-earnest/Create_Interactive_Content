{
 "cells": [
  {
   "attachments": {},
   "cell_type": "markdown",
   "id": "679c2cbb",
   "metadata": {},
   "source": [
    "# Create Content"
   ]
  },
  {
   "attachments": {},
   "cell_type": "markdown",
   "id": "a9a04687",
   "metadata": {},
   "source": [
    "**Jupyter Book** allows for the integration of various markup languages and formats, including Markdown files, Jupyter notebooks, MyST Markdown notebooks, reStructured Text, and more.\n",
    "\n"
   ]
  },
  {
   "attachments": {},
   "cell_type": "markdown",
   "id": "1f8ad8c0",
   "metadata": {},
   "source": [
    "MyST is a markup language that draws inspiration from RMarkdown and is fully integrated for use with Jupyter Book. It allows for more advanced formatting options and the ability to include interactive elements, such as widgets and code snippets, within your content. Jupyter Book is able to parse MyST in both .ipybn and .md files, allowing for flexible content creation.\n",
    "\n",
    "Here, we present only a short overview of the features of MyST. However, there is much more documentation on [the MyST website.](https://myst-parser.readthedocs.io/en/latest/syntax/syntax.html#syntax-core)\n",
    "\n",
    "## First things first\n",
    "\n",
    "Open up Visual Studio Code (or Jupyter Lab if you prefer using that). Create a new file by clicking on \"File\" and then on \"New File.\" Here, you can choose which file format you want to choose. Choose .iypbn for interactive Files or create a new one.md (Markdown) file in the folder for your project.\n",
    "\n",
    "### .iypbn vs .md - When should we use what?\n",
    "\n",
    "````{tab} .ipynb\n",
    "`.ipynb` files are Jupyter Notebook files and are primarily used for interactive data science and scientific computing. They allow for the combination of code, text, and visualizations all in one place, making it easy to document and share code-driven projects. They are often used by data scientists and researchers to share their work with others and can be easily converted to other formats like .html or .pdf for sharing.\n",
    "\n",
    "**.ipynb files are best for interactive, code-driven projects**\n",
    "````\n",
    "````{tab} .md (Markdown)\n",
    " `.md` files are Markdown files, which are primarily used for creating simple, easy-to-read documents. They use a simple syntax for formatting text and are often used for documentation, READMEs, and other types of text-based content. They are also commonly used in conjunction with version control systems like Git and can be easily rendered on various platforms.\n",
    "\n",
    " **.md files are best for documentation, READMEs, and other types of text-based content**\n",
    "````\n",
    "\n",
    "\n"
   ]
  }
 ],
 "metadata": {
  "kernelspec": {
   "display_name": "Python 3",
   "language": "python",
   "name": "python3"
  },
  "language_info": {
   "name": "python",
   "version": "3.10.4"
  },
  "vscode": {
   "interpreter": {
    "hash": "d560ba8d507c54a01f2f7ed33b1ad7c3fc56f06723f11412b74cfa1ed27a6faa"
   }
  }
 },
 "nbformat": 4,
 "nbformat_minor": 5
}
