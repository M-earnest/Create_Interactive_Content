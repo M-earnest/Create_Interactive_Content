{
 "cells": [
  {
   "cell_type": "markdown",
   "id": "c9ebfd8c",
   "metadata": {},
   "source": [
    "# Build your Book"
   ]
  },
  {
   "attachments": {},
   "cell_type": "markdown",
   "id": "e41c50a3",
   "metadata": {},
   "source": [
    "If you don't automate the workflow using our GitHub Actions Script, you can build an HTML version of your book using the command line. "
   ]
  }
 ],
 "metadata": {
  "kernelspec": {
   "display_name": "Python 3",
   "language": "python",
   "name": "python3"
  },
  "language_info": {
   "name": "python",
   "version": "3.10.4 (tags/v3.10.4:9d38120, Mar 23 2022, 23:13:41) [MSC v.1929 64 bit (AMD64)]"
  },
  "vscode": {
   "interpreter": {
    "hash": "d560ba8d507c54a01f2f7ed33b1ad7c3fc56f06723f11412b74cfa1ed27a6faa"
   }
  }
 },
 "nbformat": 4,
 "nbformat_minor": 5
}
