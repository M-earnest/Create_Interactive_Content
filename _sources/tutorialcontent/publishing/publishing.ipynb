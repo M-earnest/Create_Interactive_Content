{
 "cells": [
  {
   "cell_type": "markdown",
   "id": "19bec5e5",
   "metadata": {},
   "source": [
    "# Publishing: Hosting a course website"
   ]
  },
  {
   "cell_type": "markdown",
   "id": "18d0219c",
   "metadata": {},
   "source": [
    "\n",
    "_We believe that knowledge should be accessible to everyone and that the effort and time of people collecting and sharing knowledge is better spent on creating resources that are open, free, and at least somewhat constant._\n",
    "\n",
    "**An essential part of knowledge/science communication is reaching your target audience**. In academia, this is often constrained to a small group of students, the privileged few who not only got admitted to the university but got further accepted into the courses that they want to take. This is, of course, an artifact of earlier times when people were constrained to in-person teaching. **With today's technology, it is relatively easy to make your efforts accessible to the world**, via a YouTube lecture series or an online course, such as the one we're trying to create here. \n",
    "\n",
    "How long are students actually going to have access to the closed platform your university uses? How long are they going to carry around their notes or collect lecture slides? Why carry around a set of slides for a lecture, adapting them semester for semester, year for year, or spending hours training new hires to take over courses when we can instead maintain a documented online presence that we can freely share? Why rely on our own on specific topics, indeed limited knowledge, when we can invite experts in the field to contribute guest chapters to our courses?\n",
    "\n",
    "Furthermore, in academia/research, we are oftentimes judged on our output, whether we like it or not. Creating an online resource is an easy way to share your work not only with the world but also to contribute to your portfolio with properly licensed content. Using tools like [Zenodo](https://zenodo.org/), you can further get a DOI may be properly cited in the future.\n",
    "\n",
    "**The [following content block](https://felixkoerber.github.io/jb/tutorialcontent/publishing/account.html) will focus on how to leverage free tools to create such an online presence for your course.**\n",
    "\n",
    "\n"
   ]
  }
 ],
 "metadata": {
  "kernelspec": {
   "display_name": "Python 3 (ipykernel)",
   "language": "python",
   "name": "python3"
  },
  "language_info": {
   "codemirror_mode": {
    "name": "ipython",
    "version": 3
   },
   "file_extension": ".py",
   "mimetype": "text/x-python",
   "name": "python",
   "nbconvert_exporter": "python",
   "pygments_lexer": "ipython3",
   "version": "3.7.6"
  }
 },
 "nbformat": 4,
 "nbformat_minor": 5
}
