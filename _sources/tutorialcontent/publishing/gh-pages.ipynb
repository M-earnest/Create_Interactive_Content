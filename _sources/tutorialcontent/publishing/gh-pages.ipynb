{
 "cells": [
  {
   "cell_type": "markdown",
   "id": "da71870d",
   "metadata": {},
   "source": [
    "# GitHub Pages"
   ]
  }
 ],
 "metadata": {
  "language_info": {
   "name": "python"
  }
 },
 "nbformat": 4,
 "nbformat_minor": 5
}
