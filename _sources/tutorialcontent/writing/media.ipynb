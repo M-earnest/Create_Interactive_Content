{
 "cells": [
  {
   "cell_type": "markdown",
   "id": "f47c6b0b",
   "metadata": {},
   "source": [
    "# Media: Images, Videos & More"
   ]
  },
  {
   "attachments": {},
   "cell_type": "markdown",
   "id": "3402e9db",
   "metadata": {},
   "source": [
    "## Images\n",
    "In Jupyter Books, there few different ways to include images. Here we will highlight the way that is most optimal for hosting the Book with our provided gh-actions script.\n",
    "\n",
    "The easiest way is to add the images to your projects in the static folder of your project. Once you push/ upload the project to your GitHub you essentially are hosting the images through their services.\n",
    "\n",
    "To add images in your Jupyter Book, use the following line of Markdown in a markdown cell:\n",
    "\n",
    "`![alternative_imagetext](https://YOURGITHUBNAME.github.io/PROJECTNAME/_static/FILENAME.png)`\n",
    "\n",
    "Resulting, for example, in:\n",
    "\n",
    "![alternative_imagetext](https://felixkoerber.github.io/jb/_static/logo.png)\n",
    "\n",
    "As you are able to use essentially any imagelink, you can add images that are hosted through other websites, too!\n",
    "\n",
    "\n",
    "If you want more control about the size, orientation and more, you will have to rely on HTML tags. E.g. the following line of code will present the same image as above only downscaled to a width of 200 pixels.\n",
    "\n",
    "\n",
    "`<img src=\"https://felixkoerber.github.io/jb/_static/logo.png\" alt=\"logo\" class=\"bg-primary mb-1\" width=\"200px\">\n",
    "`\n",
    "\n",
    "which results in:\n",
    "\n",
    "<img src=\"https://felixkoerber.github.io/jb/_static/logo.png\" alt=\"logo\" class=\"bg-primary mb-1\" width=\"200px\">\n",
    "\n",
    "\n",
    "\n",
    "</br>\n",
    "</br>\n",
    "</br>\n",
    "</br>\n",
    "\n",
    "**The code above is made up of multiple html keywords, that each control a separate parameter of the image you want to control:**\n",
    "\n",
    "`<img>` is an HTML tag used to display an image on a web page.\n",
    "\n",
    "`src=\"(https://YOURGITHUBNAME.github.io/PROJECTNAME/_static/FILENAME.png\"` is an attribute that specifies the URL or path to the image file you want to display. In this case, it points to an image file on GitHub with a specific URL that you will need to replace with your own GitHub account name, project name, and file name.\n",
    "\n",
    "`alt=\"alternative_imagetext\"` is an attribute that provides alternative text for the image. This text is used by screen readers for visually impaired users, and it is also displayed when the image cannot be loaded for some reason.\n",
    "\n",
    "`class=\"bg-primary mb-1\"` is an attribute that defines the CSS class or classes to apply to the image. In this case, the class bg-primary sets the background color of the image to a primary color, and mb-1 adds a margin-bottom of 1 unit to the image.\n",
    "\n",
    "`width=\"200px\"` is an attribute that sets the width of the image to 200 pixels. This can be adjusted to suit your needs.\n",
    "\n",
    "Simply copy-paste the above line of code and adjust it to your need as necessary to emebdd every kind of image into your notebooks.\n",
    "\n",
    "**For a more in-depth exploration of the `img` tag checkout the [w3schools html tutorial](https://www.w3schools.com/html/html_images.asp)**\n"
   ]
  },
  {
   "cell_type": "markdown",
   "id": "4423c60d",
   "metadata": {},
   "source": [
    "## Videos, Presentations, GIFs, and more: iframes\n",
    "\n",
    "Jupyter Book enables you to implement `html` into your books, which allows for the integration of almost every type of media, including - but not limited to - `Videos, Presentations, GIFs, Maps` and `Images` via `iframes`.\n",
    "\n",
    "```{note}\n",
    "`iframes` or *inlineframes* are HTML-elements, that can be used to embed content from different websites.\n",
    "```\n",
    "\n",
    "Inlineframes are structured and implemented like this:\n",
    "\n",
    "`<iframe src=\"http://www.example.com/\" height=\"100\" width=\"200\" name=\"iframename\">Alternative title</iframe>`\n",
    "\n",
    "Thus, they essentially follow the same structure as the HTML-image integration.\n",
    "\n",
    "To quickly generate this code for the media of your choice, you can use a tool like the [iframe-generator](https://www.iframe-generator.com/), where you add the media URL, can change various settings and can then generate the iframe code.\n",
    "\n",
    "Let us go over different types of media embeddings:\n",
    "\n",
    "___\n",
    "\n",
    "\n"
   ]
  },
  {
   "cell_type": "markdown",
   "id": "f7d98ce1",
   "metadata": {},
   "source": [
    "## Google Slides\n",
    "\n",
    "To embed Google Slides in Jupyter Book, you can use an HTML iframe. Here's how:\n",
    "\n",
    "* Go to your Google Slides presentation and click on the \"File\" button in the top-left corner of the screen.\n",
    "\n",
    "* Click on \"share\" and select \"Publish to the web\"\n",
    "\n",
    "* Select \"Embed\" and click \"Publish\"\n",
    "\n",
    "* Open your Jupyter Book and create a new Markdown cell where you want to embed the Google Slides presentation.\n",
    "\n",
    "* In the Markdown cell, copy the HTML-code, which could result in something like this:\n",
    "\n",
    "```\n",
    "<iframe src=\"https://docs.google.com/presentation/d/e/2PACX-1vTJvUAN-dg7r7Dbj-KpxcNO6ssd7akDQjBbHzhTTBBU7zSBZ4sTfjYPtHZL6V7GmM0VQvo6Aviu5oSG/embed?start=false&loop=false&delayms=10000\" frameborder=\"0\" width=\"960\" height=\"569\" allowfullscreen=\"true\" mozallowfullscreen=\"true\" webkitallowfullscreen=\"true\"></iframe>\n",
    "```\n",
    "\n",
    "<iframe src=\"https://docs.google.com/presentation/d/e/2PACX-1vTJvUAN-dg7r7Dbj-KpxcNO6ssd7akDQjBbHzhTTBBU7zSBZ4sTfjYPtHZL6V7GmM0VQvo6Aviu5oSG/embed?start=false&loop=false&delayms=10000\" frameborder=\"0\" width=\"960\" height=\"569\" allowfullscreen=\"true\" mozallowfullscreen=\"true\" webkitallowfullscreen=\"true\"></iframe>\n",
    "\n",
    "Note that the width and height of the iframe can be adjusted to fit your specific use case. You may also want to adjust the styling of the iframe to match your Jupyter Book's visual design better.\n",
    "\n"
   ]
  },
  {
   "cell_type": "markdown",
   "id": "49214f79",
   "metadata": {},
   "source": [
    "### Videos\n",
    "\n",
    "To add videos, you need to add the \"embed\"-URL of the video. \n",
    "This URL is formatted like this:\n",
    "`http://www.youtube.com/embed/VIDEO_ID`\n",
    "\n",
    "Thus, `https://www.youtube.com/watch?v=c-bemNZ-IqA` would become `https://www.youtube.com/embed/c-bemNZ-IqA`.\n",
    "\n",
    "Added in iframes, it looks like this:\n",
    "\n",
    "```<iframe src=\"https://www.youtube.com/embed/c-bemNZ-IqA\" style=\"border:0px #ffffff none;\" name=\"Open Science Video\" scrolling=\"no\" frameborder=\"1\" marginheight=\"0px\" marginwidth=\"0px\" height=\"400px\" width=\"600px\" allowfullscreen></iframe>```\n",
    "\n",
    "Turning into:\n",
    "<iframe src=\"https://www.youtube.com/embed/c-bemNZ-IqA\" style=\"border:0px #ffffff none;\" name=\"Open Science Video\" scrolling=\"no\" frameborder=\"1\" marginheight=\"0px\" marginwidth=\"0px\" height=\"400px\" width=\"600px\" allowfullscreen></iframe>\n",
    "\n"
   ]
  },
  {
   "cell_type": "markdown",
   "id": "427bf20e",
   "metadata": {},
   "source": [
    "\n",
    "### GIFs\n",
    "\n",
    "To implement GIFs in Jupyter Books, you can also use HTML to embed a GIF in Jupyter Books. Here's an example:\n",
    "\n",
    "`<iframe src=\"link/to/your/gif/file.gif\" width=\"240\" height=\"200\" frameBorder=\"0\" class=\"giphy-embed\" allowFullScreen></iframe>'`\n",
    "\n",
    "Again, replace \"link/to/your/gif/file.gif\" with the URL or file path to your GIF.\n",
    "\n",
    "This could result in:\n",
    "\n",
    "<iframe src=\"https://giphy.com/embed/l5s71uAp3CzKwxwkoZ\" width=\"240\" height=\"200\" frameBorder=\"0\" class=\"giphy-embed\" allowFullScreen></iframe>\n",
    "\n",
    "```{note}\n",
    "Note that if you're using a local file path, the path should be relative to the location of the notebook or Markdown file that you're embedding the GIF in. If you're using a URL, it should be a direct link to the GIF file.\n",
    "```\n",
    "\n",
    "___\n",
    "\n"
   ]
  },
  {
   "cell_type": "markdown",
   "id": "8654dd44",
   "metadata": {},
   "source": [
    "There are plenty of other datatypes you can add! This section is only a short introduction to the embedding of media."
   ]
  },
  {
   "cell_type": "markdown",
   "id": "4ab56b08",
   "metadata": {},
   "source": [
    "### Next section\n",
    "\n",
    "[Structuring content](./tutorialcontent/structure)\n",
    "\n",
    "How do we structure our course website?"
   ]
  }
 ],
 "metadata": {
  "kernelspec": {
   "display_name": "Python 3 (ipykernel)",
   "language": "python",
   "name": "python3"
  },
  "language_info": {
   "codemirror_mode": {
    "name": "ipython",
    "version": 3
   },
   "file_extension": ".py",
   "mimetype": "text/x-python",
   "name": "python",
   "nbconvert_exporter": "python",
   "pygments_lexer": "ipython3",
   "version": "3.7.6"
  },
  "vscode": {
   "interpreter": {
    "hash": "d560ba8d507c54a01f2f7ed33b1ad7c3fc56f06723f11412b74cfa1ed27a6faa"
   }
  }
 },
 "nbformat": 4,
 "nbformat_minor": 5
}
