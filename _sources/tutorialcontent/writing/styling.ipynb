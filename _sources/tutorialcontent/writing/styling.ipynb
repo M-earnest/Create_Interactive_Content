{
 "cells": [
  {
   "attachments": {},
   "cell_type": "markdown",
   "id": "a9420de7",
   "metadata": {},
   "source": [
    "# Styling: The Look and Feel\n",
    "\n",
    "To effectively convey messages, a good design is indispensable. Even if your content is amazing, if it is presented as just a wall of plain text, chances are that people will not pay a lot of attention to it. \n",
    "Luckily, Jupyter Book has plenty of different options to format text, including media and much more.\n",
    "\n",
    "On this page, we will review some basic Markdown formatting bits. For a more detailed view, check out [markdownguide.com](https://www.markdownguide.org/basic-syntax/) as one of many resources.\n",
    "\n",
    "\n"
   ]
  },
  {
   "attachments": {},
   "cell_type": "markdown",
   "id": "c59369d6",
   "metadata": {},
   "source": [
    "### Formatting Text\n",
    "\n",
    "Let's start with the fundamentals:\n",
    "\n",
    "#### Italic\n",
    "To make a text _italic_ add `_` or `*` before and after the word: \n",
    "|Syntax   | Output|\n",
    "|---|---|\n",
    "|`_italic_`| _italic_ |\n",
    "|`*italic*` | *italic*|\n",
    "\n",
    "To make a text *bold* add \"*\" before and after the word: `*bold*`= *bold*\n",
    "\n",
    "#### Bold\n",
    "To make a text **bold** add `__` or `**` before and after the word: \n",
    "\n",
    "|Syntax   | Output|\n",
    "|---|---|\n",
    "|`__bold__`| __bold__ |\n",
    "|`**bold**` | **bold**|\n",
    "\n",
    "\n",
    "___\n",
    "### (Nested) Lists\n",
    "You can build nested itemized or enumerated lists using either `*` or `-` before a word\n",
    "\n",
    "* One\n",
    "    - Sublist\n",
    "        - This\n",
    "  - Sublist\n",
    "        - That\n",
    "        - The other thing\n",
    "* Two\n",
    "  - Sublist\n",
    "* Three\n",
    "  - Sublist\n",
    "\n",
    "You also create numbered lists by using `1.` etc. before your point:\n",
    "\n",
    "1. Here we go\n",
    "    1. Sublist\n",
    "    2. Sublist\n",
    "2. There we go\n",
    "3. Now this\n",
    "  \n",
    "### Horizontal Lines\n",
    "You can add horizontal rules using three underscores `___` resulting in:\n",
    "\n",
    "---"
   ]
  },
  {
   "attachments": {},
   "cell_type": "markdown",
   "id": "063aadde",
   "metadata": {},
   "source": [
    "### Blockquotes\n",
    "To create a blockquote, it is as simple as putting a `>` before a text.\n",
    "\n",
    "Here is a blockquote:\n",
    "\n",
    "> Beautiful is better than ugly.\n",
    "> Explicit is better than implicit.\n",
    "> Simple is better than complex.\n",
    "> Complex is better than complicated."
   ]
  },
  {
   "attachments": {},
   "cell_type": "markdown",
   "id": "0b32a99e",
   "metadata": {},
   "source": [
    "### Headings\n",
    "\n",
    "You can add headings using Markdown's syntax by adding `#` before your heading. You can vary the heading level by increasing the amount of Hash signs:\n",
    "\n",
    "<pre>\n",
    "# Heading 1\n",
    "\n",
    "# Heading 2\n",
    "\n",
    "## Heading 2.1\n",
    "\n",
    "## Heading 2.2\n",
    "</pre>"
   ]
  },
  {
   "attachments": {},
   "cell_type": "markdown",
   "id": "f222b32b",
   "metadata": {},
   "source": [
    "### Embedded code\n",
    "\n",
    "You can embed code meant for illustration instead of execution in Python by adding `` before statements:\n",
    "\n",
    "`def f(x):`\n",
    "\n",
    "` return x**2`\n",
    "Since you need to add this line by line, this might ruin your code formatting. Instead, consider using the HTML formatting, adding `<code>` before and `</code>` after your code:\n",
    "\n",
    "<code>def f(x): return x**2</code>"
   ]
  },
  {
   "attachments": {},
   "cell_type": "markdown",
   "id": "fb0926e1",
   "metadata": {},
   "source": [
    "### Writing latex \n",
    "\n",
    "Let's use `%%latex` to render a block of `latex`:"
   ]
  },
  {
   "attachments": {},
   "cell_type": "markdown",
   "id": "89383cd8",
   "metadata": {},
   "source": [
    "|Syntax   | Output|\n",
    "|---|---|\n",
    "|`$$F(k) = \\int_{-\\infty}^{\\infty} f(x) e^{2\\pi i k} \\mathrm{d} x$$`| $$F(k) = \\int_{-\\infty}^{\\infty} f(x) e^{2\\pi i k} \\mathrm{d} x$$|"
   ]
  },
  {
   "attachments": {},
   "cell_type": "markdown",
   "id": "13a4c224",
   "metadata": {},
   "source": [
    "### Plotting in the notebook\n",
    "\n",
    "`Notebooks` support a variety of fantastic `plotting options`, including `static` and `interactive` graphics. This `magic` configures `matplotlib` to `render` its `figures` `inline`:"
   ]
  },
  {
   "cell_type": "code",
   "execution_count": null,
   "id": "f9241c2a",
   "metadata": {},
   "outputs": [],
   "source": [
    "%matplotlib inline"
   ]
  },
  {
   "cell_type": "code",
   "execution_count": null,
   "id": "a1d82924",
   "metadata": {},
   "outputs": [],
   "source": [
    "import numpy as np\n",
    "import matplotlib.pyplot as plt"
   ]
  },
  {
   "cell_type": "code",
   "execution_count": null,
   "id": "2a01fe1f",
   "metadata": {},
   "outputs": [],
   "source": [
    "x = np.linspace(0, 2*np.pi, 300)\n",
    "y = np.sin(x**2)\n",
    "plt.plot(x, y)\n",
    "plt.title(\"A little chirp\")\n",
    "fig = plt.gcf()  # let's keep the figure object around for later..."
   ]
  },
  {
   "cell_type": "code",
   "execution_count": null,
   "id": "9844b63a",
   "metadata": {},
   "outputs": [],
   "source": [
    "import plotly.figure_factory as ff\n",
    "\n",
    "# Add histogram data\n",
    "x1 = np.random.randn(200) - 2\n",
    "x2 = np.random.randn(200)\n",
    "x3 = np.random.randn(200) + 2\n",
    "x4 = np.random.randn(200) + 4\n",
    "\n",
    "# Group data together\n",
    "hist_data = [x1, x2, x3, x4]\n",
    "\n",
    "group_labels = ['Group 1', 'Group 2', 'Group 3', 'Group 4']\n",
    "\n",
    "# Create distplot with custom bin_size\n",
    "fig = ff.create_distplot(hist_data, group_labels, bin_size=.2)\n",
    "fig.show()"
   ]
  },
  {
   "attachments": {},
   "cell_type": "markdown",
   "id": "97f193d9",
   "metadata": {},
   "source": [
    "### Special Content Blocks - Directives and Roles\n",
    "Directives and Roles are somewhat similiar to functions for markup language and allow for specific customizations of the look and feel of your book. Both accept various kinds of inputs, which are explained in further detail below."
   ]
  },
  {
   "attachments": {},
   "cell_type": "markdown",
   "id": "e72f7d2b",
   "metadata": {},
   "source": [
    "### Directives\n",
    "With directives, you can adjust the look and feel of your Jupyter Book.\n",
    "\n",
    "Directives are written like this:\n",
    "\n",
    "```\n",
    "```{mydirectivename}\n",
    "My directive content\n",
    "```\n",
    "\n",
    "Where `{mydirectivename}`would be the name of the directive. However, this directive does not yet exist. While you can integrate directives, there are many directives already implemented in Jupyter Book. \n",
    "For instance, if you want to add a note, you can use:\n",
    "\n",
    "```\n",
    "```{note}\n",
    "Here is a note\n",
    "```\n",
    "Which results in:\n",
    "```{note}\n",
    "Here is a note\n",
    "```\n",
    "\n",
    "#### Roles\n",
    " Roles are very similar in usage. However, they are somewhat simpler and are limited to one line.\n",
    "\n",
    " For example:\n",
    " ```\n",
    " Some content {rolename}`and here is my role's content!`\n",
    " ```\n",
    " \n",
    "Where `{rolename}`would be the name of the role.\n",
    "\n",
    "For instance, if you want to reference another page of your book, you can use the `{doc}`role:\n",
    "```\n",
    "{doc}`../intro`\n",
    "``` \n",
    "results in {doc}`../intro`  \n",
    "\n"
   ]
  },
  {
   "attachments": {},
   "cell_type": "markdown",
   "id": "5cebdfb1",
   "metadata": {},
   "source": [
    "#### What Roles and Directives are available?\n",
    "\n",
    "There is more information on how to use Roles and Directives in [Media](./media.ipynb), feel free to check it out!\n",
    "\n",
    "For more information on what roles and directives you can use, check out:\n",
    "* The [Sphinx directives page](https://www.sphinx-doc.org/en/master/usage/restructuredtext/directives.html) \n",
    "* The [reStructured Text directives page](https://docutils.sourceforge.io/docs/ref/rst/directives.html)\n",
    "* For building [custom Special content blocks](https://jupyterbook.org/en/stable/content/content-blocks.html)"
   ]
  }
 ],
 "metadata": {
  "kernelspec": {
   "display_name": "Python 3",
   "language": "python",
   "name": "python3"
  },
  "language_info": {
   "name": "python",
   "version": "3.10.4"
  },
  "vscode": {
   "interpreter": {
    "hash": "d560ba8d507c54a01f2f7ed33b1ad7c3fc56f06723f11412b74cfa1ed27a6faa"
   }
  }
 },
 "nbformat": 4,
 "nbformat_minor": 5
}
