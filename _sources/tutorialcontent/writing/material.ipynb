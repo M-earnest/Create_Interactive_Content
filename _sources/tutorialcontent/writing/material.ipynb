{
 "cells": [
  {
   "cell_type": "markdown",
   "id": "ef1aa710",
   "metadata": {},
   "source": [
    "# Additional Material"
   ]
  }
 ],
 "metadata": {
  "language_info": {
   "name": "python"
  }
 },
 "nbformat": 4,
 "nbformat_minor": 5
}
