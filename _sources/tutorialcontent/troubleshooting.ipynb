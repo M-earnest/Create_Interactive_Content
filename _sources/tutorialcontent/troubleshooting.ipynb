{
 "cells": [
  {
   "attachments": {},
   "cell_type": "markdown",
   "id": "e8c1acb7",
   "metadata": {},
   "source": [
    "# Troubleshooting"
   ]
  },
  {
   "attachments": {},
   "cell_type": "markdown",
   "id": "5b7013ae",
   "metadata": {},
   "source": [
    "<iframe src=\"https://docs.google.com/document/d/e/2PACX-1vSJJ4Rsq07QfmYWxq_-g_pA4yg0HIJ_Tly1Ce1JE5xrkxy1uL1OCLhJ6HUU25fdS4NFn78jMaSbyFoZ/pub?embedded=true\"frameborder=\"0\" width=\"960\" height=\"569\" allowfullscreen=\"true\" mozallowfullscreen=\"true\" webkitallowfullscreen=\"true\">></iframe>\n",
    "\n",
    "**Pow Pow**, troubles shot!"
   ]
  }
 ],
 "metadata": {
  "kernelspec": {
   "display_name": "Python 3",
   "language": "python",
   "name": "python3"
  },
  "language_info": {
   "name": "python",
   "version": "3.10.4"
  },
  "vscode": {
   "interpreter": {
    "hash": "d560ba8d507c54a01f2f7ed33b1ad7c3fc56f06723f11412b74cfa1ed27a6faa"
   }
  }
 },
 "nbformat": 4,
 "nbformat_minor": 5
}
