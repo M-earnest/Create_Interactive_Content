{
 "cells": [
  {
   "attachments": {},
   "cell_type": "markdown",
   "id": "9892bc5d",
   "metadata": {},
   "source": [
    "# Digital Literarcy in higher education"
   ]
  },
  {
   "cell_type": "markdown",
   "id": "44fb4248",
   "metadata": {},
   "source": [
    "\n",
    "Finding an appropriate definition for digital literacy is, unfortunately, a non-trivial endeavor (see Santos and Serpa, 2017; Tang and Chaw, 2016;  Shopova 2014)\n",
    "\n",
    "To keep it simple, we will use the following working definition:\n",
    "\"Digital literacy\" can be surmised as the ability to independently find, evaluate, communicate, and handle information from digital media (Shopova 2014).\n",
    "\n",
    "Digital literacy, therefore, encompasses a range of skills that are necessary to participate and navigate in a society that is increasingly drifting into a digital age, such as\n",
    "- the ability to use and understand the use cases of new technologies\n",
    "- to navigate the internet\n",
    "- to evaluate the credibility of online information\n",
    "- to participate in digital spaces (in a professional capacity\n",
    "- to communicate and express oneself through digital means\n",
    "\n",
    "\n"
   ]
  },
  {
   "attachments": {},
   "cell_type": "markdown",
   "id": "bebb7711",
   "metadata": {},
   "source": [
    "## Why is that important?\n",
    "\n",
    "- rising complexity of digital infrastructure and dependency on the skills to navigate and evaluate information to participate in higher educatio due to the gradual transition of universities towards digital infrastructure\n",
    "- especially in the natural sciences, research is entirely dependent on dealing with digital externalities\n",
    "- provides a way to circumvent structural barriers and provides access to information\n",
    "- shields against dependency on university resources and misinformation\n",
    "\n"
   ]
  },
  {
   "attachments": {},
   "cell_type": "markdown",
   "id": "36a60c95",
   "metadata": {},
   "source": [
    "## What can we do about it?\n",
    "- provide insight into the research process\n",
    "- educate on the importance of digital literacy\n",
    "- provide the means to help students to educate themselves"
   ]
  },
  {
   "attachments": {},
   "cell_type": "markdown",
   "id": "1c9f9b06",
   "metadata": {},
   "source": [
    "## What tools can we use to support students\n",
    "\n",
    "- Courses \n",
    "- Educational tools\n",
    "- Productivity tools\n",
    "- Lowering barriers\n",
    "- Adopting open science standards\n",
    "- Adhering to the fair principles\n",
    "\n"
   ]
  }
 ],
 "metadata": {
  "kernelspec": {
   "display_name": "Python 3 (ipykernel)",
   "language": "python",
   "name": "python3"
  },
  "language_info": {
   "codemirror_mode": {
    "name": "ipython",
    "version": 3
   },
   "file_extension": ".py",
   "mimetype": "text/x-python",
   "name": "python",
   "nbconvert_exporter": "python",
   "pygments_lexer": "ipython3",
   "version": "3.11.6"
  }
 },
 "nbformat": 4,
 "nbformat_minor": 5
}
