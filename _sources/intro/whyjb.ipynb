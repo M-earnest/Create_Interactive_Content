{
 "cells": [
  {
   "cell_type": "markdown",
   "id": "2d201d42",
   "metadata": {},
   "source": [
    "# Why should you use Jupyter Books?"
   ]
  },
  {
   "attachments": {},
   "cell_type": "markdown",
   "id": "4521f47e",
   "metadata": {},
   "source": [
    "In today's rapidly advancing world, technology has become an integral part of our daily lives. It has transformed the way we learn, work, and communicate, making it essential to have access to software that supports our evolving needs. However, the traditional means of education and proprietary software have significant limitations that hinder the modern world's progress. Proprietary software, which is typically controlled and owned by corporations, limits users' freedom and hinders collaboration, making it challenging to achieve innovation and growth. Similarly, traditional means of education are often rigid and inflexible, failing to cater to individual learning styles and hindering student engagement. In contrast, open software offers a range of benefits, such as greater freedom, flexibility, and collaboration, making it an ideal solution for the modern world's needs.\n",
    "\n",
    "<iframe src=\"https://giphy.com/embed/CTX0ivSQbI78A\" width=\"480\" height=\"355\" frameBorder=\"0\" class=\"giphy-embed\" allowFullScreen></iframe><p><a href=\"https://giphy.com/gifs/internet-computer-technology-CTX0ivSQbI78A\">via GIPHY</a></p>\n",
    "\n",
    "In addition to the limitations of traditional means of education, the modern world's diverse population requires educational methods that cater to a range of learning styles and abilities. Multimodal educational means, which utilize a variety of media and techniques such as audio, video, images, and interactive elements, are essential for engaging learners with different learning styles and abilities. These methods allow for greater customization and adaptability, enabling learners to progress at their own pace and in a way that suits their learning style. As such, multimodal educational means are critical for providing an inclusive and effective learning experience for all students, regardless of their background or ability level.\n",
    "\n",
    "From the position of instructors, there are countless ways of trying to provide information on the respective topic: If people want to publish videos they tend to go to Youtube or TikTok, for text they might send around slides or PDFs, or publish information on their university website. However, these proprietary means have several shortcomings, such as limited access, high costs, and lack of interoperability. For example, instructors may have to purchase expensive licenses for proprietary software, limiting their ability to create and share content freely. Additionally, proprietary software often locks users into a specific ecosystem, making it challenging to collaborate with others who use different tools or platforms. These limitations hinder the collaborative and adaptive learning experience that is critical for the modern world's educational needs. \n",
    "\n",
    "___\n",
    "\n",
    "#### Overcoming shortcomings using Jupyter Book\n",
    "\n",
    "To address the limitations of proprietary software and provide a more inclusive and flexible solution for modern education, educators and developers have turned to open-source software such as Jupyter Book. Jupyter Book is a powerful, open-source tool that enables educators to create and publish interactive, web-based textbooks and other educational content. It is built on open-source technologies such as Jupyter notebooks, which allow for easy integration of code, text, and media, providing a more immersive and engaging learning experience. By leveraging the power of open-source technologies, Jupyter Book addresses the limitations of proprietary software and provides a customizable and adaptable solution for modern education. In the following sections, we will explore the specific benefits of Jupyter Book and how it can help meet the diverse needs of modern education.\n",
    "\n",
    "## Proprietary software works great for me, why should I consider using Jupyter Book? \n",
    "__Great question!__\n",
    "\n",
    " As stated earlier, we believe that digital literacy is one of the most important skills to possess in modern (research) environments.\n",
    "\n",
    "**Jupyter Book** is a powerful tool for creating `open, interactive educational materials`. Here are just a few of the reasons why it's worth considering for your next educational project:\n",
    "\n",
    "1. **Jupyter Book allows you** to combine `live code, equations, visualizations`, and `narrative text` in a single document. This makes it easy to create engaging, interactive educational content that helps students understand complex concepts.\n",
    "\n",
    "2. **Jupyter Book is built on top of the Jupyter Notebook**, which is a widely-used, `open-source tool` for interactive computing. This means that there is a large community of users and developers who can help you with any questions or issues that you may have.\n",
    "\n",
    "3. **Jupyter Book is open-source** and can be hosted on GitHub, which makes it easy to `share and collaborate` on educational materials with others. This is particularly useful for educators who are working on a project with other teachers or researchers.\n",
    "\n",
    "4. **Jupyter Book allows you to create** `interactive widgets`, such as sliders and drop-down menus, that can be used to control code or data visualizations in your educational materials. This makes it easy to create interactive exercises and quizzes that can help students better understand the material.\n",
    "\n",
    "5. **Jupyter Book also provides the ability** to export the book in various format such as `HTML, PDF, and EPUB`, this makes it easy to share the book in different platforms and devices.\n",
    "\n",
    "\n",
    "\n",
    "## Next Section: \n",
    "\n",
    "[Content creation](./tutorialcontent/writing.ipynb): Here you'll learn how to create and style content, such as the pages displayed on this website!\n",
    "\n",
    "- [What's a Jupyter Notebook?](.tutorialcontent/writing/cells)\n",
    "- [Styling: The Look and Feel](./tutorialcontent/writing/styling)\n",
    "- [Embedding Media: Images, Videos and more](./tutorialcontent/writing/media)"
   ]
  },
  {
   "cell_type": "code",
   "execution_count": null,
   "id": "59fd428b-0db0-4882-bea3-615589a553ec",
   "metadata": {},
   "outputs": [],
   "source": []
  }
 ],
 "metadata": {
  "kernelspec": {
   "display_name": "Python 3 (ipykernel)",
   "language": "python",
   "name": "python3"
  },
  "language_info": {
   "codemirror_mode": {
    "name": "ipython",
    "version": 3
   },
   "file_extension": ".py",
   "mimetype": "text/x-python",
   "name": "python",
   "nbconvert_exporter": "python",
   "pygments_lexer": "ipython3",
   "version": "3.11.6"
  },
  "vscode": {
   "interpreter": {
    "hash": "d560ba8d507c54a01f2f7ed33b1ad7c3fc56f06723f11412b74cfa1ed27a6faa"
   }
  }
 },
 "nbformat": 4,
 "nbformat_minor": 5
}
