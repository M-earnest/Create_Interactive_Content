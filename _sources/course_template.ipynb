{
 "cells": [
  {
   "cell_type": "markdown",
   "id": "d8c7e081",
   "metadata": {},
   "source": [
    "# The course template\n",
    "\n",
    "This tutorial is further paired with a template course, that you can freely [download here](https://github.com/M-earnest/course_template_diler/archive/refs/heads/master.zip). To see a rendered version of the website this template course produces follow this [link](https://m-earnest.github.io/course_template_diler/general_information/index.html). This course will in essence teach you how to adapt this template to host your own online courses. An explanation of the template can be found below.\n",
    "\n",
    "\n",
    "\n",
    "**The course template is structured in the following way**\n",
    "\n",
    "\n",
    "<img src=\"https://github.com/felixkoerber/jb/blob/main/static/repo.png?raw=true\" alt=\"depicting the contents of the course template repository on github\" class=\"bg-primary\" width=\"500px\">\n",
    "\n",
    "\n",
    "\n",
    "Where:\n",
    "\n",
    "- **.github/workflows folder**: contains the prewritten scripts to automatically create your website everytime new content is pushed online\n",
    "\n",
    "- **lecture**: contains all our content files and directories, as well as the \"toc.yml\" and the \"config.yml\" files, which defines the strutcture and functionality of the website\n",
    "\n",
    "- **README**: a short explanation of your website/course\n",
    "\n",
    "- **LICENSE**: self-explanatory, stating who and how are people allowed to use or reproduce the content of this repo\n",
    "\n",
    "- **requirements.txt**: contains the necessary requirements for the automatic scripts building the website to run, no need to change anything here.\n",
    "\n"
   ]
  },
  {
   "cell_type": "markdown",
   "id": "253ffa50",
   "metadata": {},
   "source": [
    "Now **most of the things that you'll be adapting for your course are contained in the content folder \"lecture\"**, which looks like this\n",
    "\n",
    "<img src=\"https://github.com/felixkoerber/jb/blob/main/static/lecture_folder.png?raw=true\" alt=\"depicting the contents of the course template repository on github\" class=\"bg-primary\" width=\"500px\">\n",
    "\n",
    "Where:\n",
    "\n",
    "- **content**: contains files making up the main content of a course website\n",
    "\n",
    "\n",
    "- **general information**: contains files providing information, such as the necessary setup, the outline of the course, a code of conduct etc.. The included \"index.md\" file will be the landing point of the course website\n",
    "\n",
    "\n",
    "- **introduction**: contains files making up the introdutory sessions of a course\n",
    "\n",
    "\n",
    "- **static**: contains all the pictures and graphs contained in a course. It's recommended that should you add new files. e.g. a course logo to this folder.\n",
    "\n",
    "\n",
    "- **config.yml**: **Contains the course title, authors and copyright notice at the footer of the website, which you should change before hosting your website**. Further contains the specifics for the technical implementations of a course, e.g. whether jupyter notebooks should be re-run everytime the course website is created  by the github workflow or e.g. whether a course incoporated interactive elements.\n",
    "\n",
    "\n",
    "- **toc.yml**: contains information on the structure of the course website. For an in-depth explanation, jump to the respective section under \"creating content\"\n"
   ]
  }
 ],
 "metadata": {
  "kernelspec": {
   "display_name": "Python 3 (ipykernel)",
   "language": "python",
   "name": "python3"
  },
  "language_info": {
   "codemirror_mode": {
    "name": "ipython",
    "version": 3
   },
   "file_extension": ".py",
   "mimetype": "text/x-python",
   "name": "python",
   "nbconvert_exporter": "python",
   "pygments_lexer": "ipython3",
   "version": "3.11.6"
  }
 },
 "nbformat": 4,
 "nbformat_minor": 5
}
