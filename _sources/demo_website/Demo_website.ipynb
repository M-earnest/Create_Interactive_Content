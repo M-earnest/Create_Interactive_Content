{
 "cells": [
  {
   "cell_type": "markdown",
   "id": "d38ce42f-63ac-4b27-a371-1bcae4027e7a",
   "metadata": {},
   "source": [
    "# Why should you use Jupyter Books?"
   ]
  },
  {
   "cell_type": "markdown",
   "id": "8446f033-b710-48d4-99fd-8d63a8ca4cbf",
   "metadata": {},
   "source": [
    "Jupyter Book is a powerful, **open-source** tool that enables you to create and publish **interactive**, **web-based textbooks** and other educational content. It is built on open-source technologies such as Jupyter notebooks, which allow for easy integration of **code**, **text**, and **media**, providing a more immersive and engaging learning experience. By leveraging the power of open-source technologies, Jupyter Book addresses the limitations of proprietary software and provides a customizable and adaptable solution for modern education. \n",
    "\n",
    "## Multimedia integration\n",
    "In addition to the limitations of traditional means of education, the modern world's diverse population requires educational methods that cater to a range of learning styles and abilities. Multimodal educational means, which utilize a variety of media and techniques such as **audio**, **video**, **images**, and **interactive elements**, are essential for engaging learners with different learning styles and abilities. These methods allow for greater customization and adaptability, enabling learners to progress at their own pace and in a way that suits their learning style. As such, multimodal educational means are critical for providing an inclusive and effective learning experience for all students, regardless of their background or ability level.\n",
    "\n",
    "### Audio integration\n",
    "<iframe style=\"border-radius:12px\" src=\"https://open.spotify.com/embed/track/3GJ6jnDrapgXAmxEXO6fWw?utm_source=generator\" \n",
    "        width=\"100%\" height=\"352\" frameborder=\"0\" \n",
    "        allow=\"autoplay; clipboard-write; encrypted-media; fullscreen; picture-in-picture\" loading=\"lazy\">\n",
    "</iframe>\n",
    "\n",
    "### Video integration\n",
    "<iframe width=\"560\" height=\"315\" src=\"https://www.youtube.com/embed/9YuNGB3vNOw?si=dPCD8xeLaUuimvYP\" title=\"YouTube video player\" frameborder=\"0\" allow=\"accelerometer; autoplay; clipboard-write; encrypted-media; gyroscope; picture-in-picture; web-share\" referrerpolicy=\"strict-origin-when-cross-origin\" allowfullscreen></iframe>\n",
    "\n",
    "### Image/Gif integration\n",
    "<iframe src=\"https://giphy.com/embed/YPzvV7N0Cnlbbrigvp\" width=\"480\" height=\"271\" style=\"\" frameBorder=\"0\" class=\"giphy-embed\" allowFullScreen></iframe><p><a href=\"https://giphy.com/gifs/bigbangtheory-season-1-episode-9-big-bang-theory-YPzvV7N0Cnlbbrigvp\">via GIPHY</a></p>\n",
    "\n",
    "### Integration of presentations \n",
    "\n",
    "<iframe src=\"https://docs.google.com/presentation/d/e/2PACX-1vTJvUAN-dg7r7Dbj-KpxcNO6ssd7akDQjBbHzhTTBBU7zSBZ4sTfjYPtHZL6V7GmM0VQvo6Aviu5oSG/embed?start=false&loop=false&delayms=10000\" frameborder=\"0\" width=\"960\" height=\"569\" allowfullscreen=\"true\" mozallowfullscreen=\"true\" webkitallowfullscreen=\"true\"></iframe>\n",
    "\n",
    "### Integration of code cells\n",
    "\n",
    "```\n",
    "These cells can be executed, when live code via Binder or Colab is activated or when the notebook is downloaded.\n",
    "```\n",
    "\n",
    "### ... and much more\n",
    "\n",
    "## Interactive content\n",
    "\n",
    "\n",
    "```{dropdown} Exercises...\n",
    "... and answers\n",
    "```\n",
    "\n",
    "```{note} If you want learn more about...\n",
    ":class: dropdown\n",
    "... go to the Jupyter Book website\n",
    "```\n",
    "\n",
    "### Get easily in contact\n",
    "On the right-hand side of this website, overlayed over the scroll bar, you’ll find some symbols looking like this `>`. This tool [(hypothesis)](https://web.hypothes.is/) allows you to annotate and highlight relevant information on this website, while clicking on the arrow (`>`) will reveal the public annotation board. Feel free to use this tool to discuss, annotate, or ask questions regarding the site content there!\n",
    "\n",
    "### The rocket :rocket:\n",
    "On the top of this page you find a :rocket: symbol. Navigate your mouse to the :rocket: and you will find the [**Binder**](https://mybinder.org/) and the [**Colab**](https://colab.google/) button. By clicking on either of the buttons, you will get a live version of this notebook to run it on Binder or Colab respectively. \n",
    "Feel free to try it out!\n",
    "\n",
    "## Download \n",
    "On the top of the  page you finde a top-down arrow. Navigate your mouse towards that arrow and you can download the page as `.pdf` or `.ipynb`(Jupyter Notebook).\n",
    "\n",
    "**Have we piqued your interest? Then let's continue!**"
   ]
  },
  {
   "cell_type": "code",
   "execution_count": 2,
   "id": "54ceb433-7c35-47a0-9db8-600a5dcc13d5",
   "metadata": {},
   "outputs": [
    {
     "data": {
      "text/html": [
       "\n",
       "        <iframe\n",
       "            width=\"100%\"\n",
       "            height=\"352\"\n",
       "            src=\"https://open.spotify.com/embed/track/3GJ6jnDrapgXAmxEXO6fWw?utm_source=generator?frameborder=0&allow=autoplay%3B+clipboard-write%3B+encrypted-media%3B+fullscreen%3B+picture-in-picture\"\n",
       "            frameborder=\"0\"\n",
       "            allowfullscreen\n",
       "            \n",
       "        ></iframe>\n",
       "        "
      ],
      "text/plain": [
       "<IPython.lib.display.IFrame at 0x7fe2faf23a50>"
      ]
     },
     "execution_count": 2,
     "metadata": {},
     "output_type": "execute_result"
    }
   ],
   "source": []
  },
  {
   "cell_type": "markdown",
   "id": "8ad2dcc6-c0a2-46bd-a947-e7d3035cb0bd",
   "metadata": {},
   "source": []
  }
 ],
 "metadata": {
  "kernelspec": {
   "display_name": "Python 3 (ipykernel)",
   "language": "python",
   "name": "python3"
  },
  "language_info": {
   "codemirror_mode": {
    "name": "ipython",
    "version": 3
   },
   "file_extension": ".py",
   "mimetype": "text/x-python",
   "name": "python",
   "nbconvert_exporter": "python",
   "pygments_lexer": "ipython3",
   "version": "3.11.6"
  }
 },
 "nbformat": 4,
 "nbformat_minor": 5
}
