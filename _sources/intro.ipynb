{
 "cells": [
  {
   "cell_type": "markdown",
   "metadata": {},
   "source": [
    "![Logo](https://felixkoerber.github.io/jb/_static/logo.png)\n",
    "# **Welcome!**"
   ]
  },
  {
   "attachments": {},
   "cell_type": "markdown",
   "metadata": {},
   "source": [
    "Hello and welcome everyone to the introduction page for the course **Creating & sharing interactive learning materials**! created as part of [DIGITELL](https://www.uni-frankfurt.de/106206707/Projekt_DigiTeLL), by the [DiLER](https://diler-digitell.github.io/intro.html) project.\n",
    "\n",
    "As you read through the subsections of this website, you will gain insight into how to create beautiful, easy-to-deploy, and interactive content quickly. Simply follow the outline discussed in the [Overview & procedure section]( to learn what this course is about and how to navigate the materials.\n",
    "\n",
    "While this tutorial was created with the goal of an integrated framework for digital education at Goethe University, this doesn't limit the content to members of Goethe University: We utilize free, open-source software available to anyone.\n",
    "\n",
    "#### Objectives 📍\n",
    "- Learn how to create free online resources for higher education\n",
    "- Learn about the benefits of free and accessible online courses and why this should be of interest to you\n",
    "\n",
    "## How did we get here?\n",
    "We believe that education should be available to as many people as possible, which is why this website is created as an open and free resource; if you'd like to create a course following our framework, please consider doing the same. Especially important should be the inclusion (and possibly adaptation) of our [diversity, equity, and inclusion statement](https://diler-digitell.github.io/Jupyter-Book/ressources/dei.html), our [open science statement](https://diler-digitell.github.io/Jupyter-Book/ressources/open_science.html), and the [Code of Conduct](https://diler-digitell.github.io/Jupyter-Book/ressources/CoC.html) to promote FAIR [(Wilkinson et al., 2016)](https://doi.org/10.1038/sdata.2016.18) and inclusive access to education. \n",
    "\n",
    "___\n",
    "\n",
    "\n"
   ]
  },
  {
   "attachments": {},
   "cell_type": "markdown",
   "metadata": {},
   "source": [
    "## The goal of this project\n",
    "\n",
    "The DiLER project aims to create a framework for providing, bundling, and introducing the benefits of free, open-source resources for promoting research-based learning, with a focus on the core competency of \"digital literacy\" in empirical sciences. This is done through multimedia, competence-oriented content, and exams that cover the entire empirical research process, using examples from various requirements of psychology studies. \n",
    "\n",
    "Our project places a strong emphasis on promoting sustainability and transferability to other content and application areas, supported by integrated feedback options for students and teachers, and incorporating necessary hardware and software infrastructure. The project also primarily follows the FAIR principles (Findability, Accessibility, Interoperability, and Reuse of digital assets) in order to maximize the benefits and accessibility of provided materials.\n",
    "\n",
    "___\n",
    "## Mission statement: Digital Literacy\n",
    "\n",
    "With the surge of progressively more available and interconnected data, *Digital Literacy* has become a skill integral in teaching, science, and everyday life. Digital Literacy is a term describing competencies of using modern information technology, managing information, thinking critically, and selecting and applicating these reasonably. These skills are not only relevant due to the increasing levels of complexity of science, limited access to resources, and transparencies of digital infrastructures, but also necessary for independent empirical research.\n",
    "\n",
    "Traditional educational models are often insufficient in conveying the intricacies of digital literacy. Therefore, this project aims to empower course instructors to take advantage of interactive, flexible, and open-source resources to enhance their teachings.\n",
    "\n",
    "Digital Literacy is not just about being tech-savvy but encompasses a broader set of competencies that include the ability to identify and evaluate information sources, to communicate and collaborate effectively, to manage digital footprints, and to protect privacy and data security. These competencies are essential for students to thrive in the digital age and to become active and responsible digital citizens.\n",
    "\n",
    "The project seeks to provide instructors with the necessary resources to incorporate digital literacy skills into their curriculum, enabling them to teach their students how to navigate the digital landscape safely, effectively, and ethically. By doing so, students will be better equipped to succeed in today's digital world and will be prepared for the challenges and opportunities that the future holds.\n",
    "___\n",
    "\n",
    "\n"
   ]
  }
 ],
 "metadata": {
  "kernelspec": {
   "display_name": "Python 3 (ipykernel)",
   "language": "python",
   "name": "python3"
  },
  "language_info": {
   "codemirror_mode": {
    "name": "ipython",
    "version": 3
   },
   "file_extension": ".py",
   "mimetype": "text/x-python",
   "name": "python",
   "nbconvert_exporter": "python",
   "pygments_lexer": "ipython3",
   "version": "3.11.6"
  },
  "vscode": {
   "interpreter": {
    "hash": "5289083c3f5abe312d701549a23d918d5df8d2bf6b85b22b433ed91977547b08"
   }
  },
  "widgets": {
   "application/vnd.jupyter.widget-state+json": {
    "state": {},
    "version_major": 2,
    "version_minor": 0
   }
  }
 },
 "nbformat": 4,
 "nbformat_minor": 4
}
